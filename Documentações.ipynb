{
  "nbformat": 4,
  "nbformat_minor": 0,
  "metadata": {
    "colab": {
      "name": "Untitled8.ipynb",
      "provenance": [],
      "authorship_tag": "ABX9TyO7sBuQGI/tb+rm+BfG4gBt",
      "include_colab_link": true
    },
    "kernelspec": {
      "name": "python3",
      "display_name": "Python 3"
    },
    "language_info": {
      "name": "python"
    }
  },
  "cells": [
    {
      "cell_type": "markdown",
      "metadata": {
        "id": "view-in-github",
        "colab_type": "text"
      },
      "source": [
        "<a href=\"https://colab.research.google.com/github/EduardoNicolini/IMERSAO-DADOS-ALURA-2021/blob/main/Documenta%C3%A7%C3%B5es.ipynb\" target=\"_parent\"><img src=\"https://colab.research.google.com/assets/colab-badge.svg\" alt=\"Open In Colab\"/></a>"
      ]
    },
    {
      "cell_type": "markdown",
      "metadata": {
        "id": "S3ReBBHm7Rin"
      },
      "source": [
        "# **Documentações**"
      ]
    },
    {
      "cell_type": "markdown",
      "metadata": {
        "id": "gMbcj6p87bTW"
      },
      "source": [
        "https://www.tylervigen.com/spurious-correlations\n",
        "\n",
        "https://www.kaggle.com/c/lish-moa\n",
        "\n",
        "https://www.alura.com.br/artigos/melhorando-a-analise-com-o-boxplot\n",
        "\n",
        "https://www.alura.com.br/artigos/ampliando-a-analise-com-describe\n",
        "\n",
        "https://www.alura.com.br/artigos/google-colab-o-que-e-e-como-usar\n",
        "\n",
        "https://www.alura.com.br/artigos/o-que-e-um-histograma?utm_source=gnarus&\n",
        "utm_medium=timeline\n",
        "\n",
        "https://seaborn.pydata.org/"
      ]
    }
  ]
}